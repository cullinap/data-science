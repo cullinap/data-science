{
 "cells": [
  {
   "cell_type": "markdown",
   "metadata": {},
   "source": [
    "## Homework:"
   ]
  },
  {
   "cell_type": "markdown",
   "metadata": {},
   "source": [
    "1.Given the iris data set, use the last two features \"petal length\" and \"petal width\" to predict the \"species\". Build a logistic regression and:\n",
    "\n",
    "- (1) Print out the accuracy\n",
    "- (2) Make a prediction given a new observation $\\text{petal length} = 7$, $\\text{petal width}=4$, as well as the probabilities $p(y=i|x)$.\n",
    "- (3) Plot the linear boundaries, and compare it with the LDA's boundary.\n",
    "\n"
   ]
  },
  {
   "cell_type": "code",
   "execution_count": 1,
   "metadata": {},
   "outputs": [
    {
     "name": "stdout",
     "output_type": "stream",
     "text": [
      "Populating the interactive namespace from numpy and matplotlib\n",
      "logistic regression accuracy is: 0.8733333333333333\n",
      "the prediction of the new observation is [2]\n",
      "probability that it belongs to each class [[1.62999770e-05 1.10275904e-01 8.89707796e-01]]\n"
     ]
    }
   ],
   "source": [
    "import numpy as np\n",
    "import pandas as pd\n",
    "from __future__ import print_function\n",
    "import matplotlib.pyplot as plt\n",
    "from sklearn import datasets\n",
    "from sklearn import linear_model\n",
    "%pylab inline\n",
    "\n",
    "iris = datasets.load_iris()\n",
    "iris.x = iris.data[:, [2,3]]\n",
    "iris.y = iris.target\n",
    "\n",
    "logit = linear_model.LogisticRegression()\n",
    "logit.fit(iris.x, iris.y)\n",
    "\n",
    "print('logistic regression accuracy is: ' + str(logit.score(iris.x, iris.y)))\n",
    "#print('Prediction of new observation is: ' + str(logit.predict([7,4])))\n",
    "\n",
    "predict_array = np.array([7,4]).reshape(1,-1)\n",
    "\n",
    "print('the prediction of the new observation is ' + str(logit.predict(predict_array)))\n",
    "print('probability that it belongs to each class ' + str(logit.predict_proba(predict_array)))      \n"
   ]
  },
  {
   "cell_type": "code",
   "execution_count": 2,
   "metadata": {},
   "outputs": [],
   "source": [
    "#load graphs\n",
    "\n",
    "def data_2Dplot(x, y, legends=None, xlabel=None, ylabel=None):\n",
    "    x, y = np.array(x), np.array(y)\n",
    "    if legends is None:\n",
    "        legends = np.unique(y)\n",
    "    col = [\"r\", \"g\", \"b\", \"m\", \"c\", \"k\"]\n",
    "    ## plot the data points\n",
    "    for i in np.unique(y):\n",
    "        plt.scatter(x[y==i,0], x[y==i,1], c=col[i%6], s=25, label=legends[i])\n",
    "    \n",
    "    if xlabel:\n",
    "        plt.xlabel(xlabel,size=12)\n",
    "    if ylabel:\n",
    "        plt.ylabel(ylabel,size=12)\n",
    "    plt.legend(loc=2)\n",
    "    del_0, del_1 = (max(x[:,0]) - min(x[:,0]))*.1, (max(x[:,1]) - min(x[:,1]))*.1\n",
    "    plt.axis([\n",
    "        min(x[:,0]) - del_0, max(x[:,0]) + del_0,\n",
    "        min(x[:,1]) - del_1, max(x[:,1]) + del_1]\n",
    "    )\n",
    "\n",
    "def logistic_model_2Dplot(x, model):\n",
    "    # import warnings\n",
    "    # warnings.warn('Does not work for all problems. (Works only for binary label?)')\n",
    "    \n",
    "    def plot_y(x_1, model=model):\n",
    "        ## np.column_stack() combines intercept with coefficents\n",
    "        for coef in np.column_stack((model.intercept_, model.coef_)):\n",
    "            ## take b0, b1, b2 for one boundary at a time \n",
    "            b_0, b_1, b_2 = coef[:3]\n",
    "            # given 1, calculate corresponding x2\n",
    "            # http://python-future.org/compatible_idioms.html\n",
    "            # Idiomatic Py3, but inefficient on Py2\n",
    "            yield list(map(lambda x: -(b_0 + b_1*x) / b_2, x_1))\n",
    "    \n",
    "    x = np.array(x)\n",
    "    x_a = [min(x[:,0]), max(x[:,0])]\n",
    "    col = [\"r\", \"g\", \"b\", \"m\", \"c\", \"k\"]\n",
    "    for i, x_b in enumerate(plot_y(x_a, model)):\n",
    "        plt.plot(x_a, x_b, c=col[i])\n",
    "\n",
    "def plot_model(model, x, y, label):\n",
    "    '''\n",
    "    model: a fitted model\n",
    "    x, y: two variables, should be numpy arrays\n",
    "    label: true label\n",
    "    '''\n",
    "    x_min = x.min() - 1\n",
    "    x_max = x.max() + 1\n",
    "    y_min = y.min() - 1\n",
    "    y_max = y.max() + 1\n",
    "    import  matplotlib.pyplot as plt\n",
    "    from matplotlib import colors\n",
    "    colDict = {\n",
    "        'red': [(0, 1, 1), (1, 0.7, 0.7)],\n",
    "        'green': [(0, 1, 0.5), (1, 0.7, 0.7)],\n",
    "        'blue': [(0, 1, 0.5), (1, 1, 1)]\n",
    "    }\n",
    "    cmap = colors.LinearSegmentedColormap('red_blue_classes', colDict)\n",
    "    plt.cm.register_cmap(cmap=cmap)\n",
    "    nx, ny = 200, 200\n",
    "    xx, yy = np.meshgrid(np.linspace(x_min, x_max, nx),\n",
    "                         np.linspace(y_min, y_max, ny))\n",
    "    Z = model.predict(np.c_[xx.ravel(), yy.ravel()])\n",
    "    Z = Z.reshape(xx.shape)\n",
    "    ## plot colormap\n",
    "    plt.pcolormesh(xx, yy, Z, cmap='red_blue_classes')\n",
    "    ## plot boundaries\n",
    "    plt.contour(xx, yy, Z, [0.5], linewidths=1., colors='k')\n",
    "    plt.contour(xx, yy, Z, [1], linewidths=1., colors='k')\n",
    "    ## plot scatters and true labels\n",
    "    plt.scatter(x, y, c=label)\n",
    "    plt.xlim(x_min, x_max)\n",
    "    plt.ylim(y_min, y_max)"
   ]
  },
  {
   "cell_type": "code",
   "execution_count": 3,
   "metadata": {},
   "outputs": [
    {
     "data": {
      "image/png": "[encoded data removed]",
      "text/plain": [
       "<matplotlib.figure.Figure at 0x10a4175f8>"
      ]
     },
     "metadata": {},
     "output_type": "display_data"
    }
   ],
   "source": [
    "# Plot data points    \n",
    "data_2Dplot(iris.data[:,2:],iris.target)\n",
    "#Plot decision boundary\n",
    "logistic_model_2Dplot(iris.data[:,2:], logit)\n",
    "\n",
    "plt.show()"
   ]
  },
  {
   "cell_type": "code",
   "execution_count": 4,
   "metadata": {},
   "outputs": [
    {
     "data": {
      "image/png": "[encoded data removed]",
      "text/plain": [
       "<matplotlib.figure.Figure at 0x115766400>"
      ]
     },
     "metadata": {},
     "output_type": "display_data"
    }
   ],
   "source": [
    "from sklearn import discriminant_analysis\n",
    "LDA = discriminant_analysis.LinearDiscriminantAnalysis()\n",
    "LDA.fit(iris.data[:,2:], iris.target)\n",
    "\n",
    "def plotModel(model, x, y, label):\n",
    "    '''\n",
    "    model: a fitted model\n",
    "    x, y: two variables, should be np.arrays\n",
    "    label: true label\n",
    "    '''\n",
    "    x_min = x.min() - 1\n",
    "    x_max = x.max() + 1\n",
    "    y_min = y.min() - 1\n",
    "    y_max = y.max() + 1\n",
    "    import  matplotlib.pyplot as pl\n",
    "    from matplotlib import colors\n",
    "    colDict = {'red': [(0, 1, 1), (1, 0.7, 0.7)],\n",
    "               'green': [(0, 1, 0.5), (1, 0.7, 0.7)],\n",
    "               'blue': [(0, 1, 0.5), (1, 1, 1)]}\n",
    "    cmap = colors.LinearSegmentedColormap('red_blue_classes', colDict)\n",
    "    pl.cm.register_cmap(cmap=cmap)\n",
    "    nx, ny = 200, 200\n",
    "    xx, yy = np.meshgrid(np.linspace(x_min, x_max, nx),\n",
    "                         np.linspace(y_min, y_max, ny))\n",
    "    Z = model.predict(np.c_[xx.ravel(), yy.ravel()])\n",
    "    Z = Z.reshape(xx.shape)\n",
    "    ## plot colormap\n",
    "    pl.pcolormesh(xx, yy, Z, cmap='red_blue_classes')\n",
    "    ## plot boundaries\n",
    "    pl.contour(xx, yy, Z, [0.5], linewidths=1., colors='k')\n",
    "    pl.contour(xx, yy, Z, [1], linewidths=1., colors='k')\n",
    "    ## plot scatters ans true labels\n",
    "    pl.scatter(x, y, c = label)\n",
    "    pl.xlim(x_min, x_max)\n",
    "\n",
    "    pl.ylim(y_min, y_max)\n",
    "\n",
    "plt.rcParams['figure.figsize'] = 8,6\n",
    "plotModel(LDA, iris.data[:,2], iris.data[:,3], iris.target)"
   ]
  },
  {
   "cell_type": "markdown",
   "metadata": {},
   "source": [
    "2.There are three files in the \"data\" folder:\n",
    "\n",
    "    - \"spam_train.csv\"\n",
    "    - \"spam_test.csv\"\n",
    "    - \"spam.txt\"\n",
    "\n",
    "The file \"spam_train.csv\" in the \"data\" folder contains 2300 emails and 58 variables. The last variable \"spam\" is a factor with two levels: \"email\", \"spam\". If you want to know more information about the data set, please read the file \"spam.txt\".\n",
    "\n",
    "Your assignment is based on the \"spam_train.csv\" file, try to build a classifier to predict the variable \"spam\". You need to write a report which contains:\n",
    "\n",
    "- (1) The features you are using to build the model.\n",
    "- (2) At least two models we have learned.\n",
    "- (3) After building the models, report the corresponding accuracy on the training set.\n",
    "- (4) Use you models to make prediction on the \"spam_test.csv\" file, report the corresponding accuracy on this test set.\n",
    "- (5) Compare the performance of the models in the following two aspect:\n",
    "    - (a) the performance of two different models.\n",
    "    - (b) the performance of one model on the training set and test set.\n",
    "    \n",
    "The following codes may be a useful beginning:"
   ]
  },
  {
   "cell_type": "code",
   "execution_count": 59,
   "metadata": {},
   "outputs": [
    {
     "data": {
      "text/html": [
       "<div>\n",
       "<style scoped>\n",
       "    .dataframe tbody tr th:only-of-type {\n",
       "        vertical-align: middle;\n",
       "    }\n",
       "\n",
       "    .dataframe tbody tr th {\n",
       "        vertical-align: top;\n",
       "    }\n",
       "\n",
       "    .dataframe thead th {\n",
       "        text-align: right;\n",
       "    }\n",
       "</style>\n",
       "<table border=\"1\" class=\"dataframe\">\n",
       "  <thead>\n",
       "    <tr style=\"text-align: right;\">\n",
       "      <th></th>\n",
       "      <th>A.1</th>\n",
       "      <th>A.2</th>\n",
       "      <th>A.3</th>\n",
       "      <th>A.4</th>\n",
       "      <th>A.5</th>\n",
       "      <th>A.6</th>\n",
       "      <th>A.7</th>\n",
       "      <th>A.8</th>\n",
       "      <th>A.9</th>\n",
       "      <th>A.10</th>\n",
       "      <th>...</th>\n",
       "      <th>A.49</th>\n",
       "      <th>A.50</th>\n",
       "      <th>A.51</th>\n",
       "      <th>A.52</th>\n",
       "      <th>A.53</th>\n",
       "      <th>A.54</th>\n",
       "      <th>A.55</th>\n",
       "      <th>A.56</th>\n",
       "      <th>A.57</th>\n",
       "      <th>spam</th>\n",
       "    </tr>\n",
       "  </thead>\n",
       "  <tbody>\n",
       "    <tr>\n",
       "      <th>0</th>\n",
       "      <td>0.32</td>\n",
       "      <td>0.0</td>\n",
       "      <td>0.00</td>\n",
       "      <td>0.0</td>\n",
       "      <td>0.32</td>\n",
       "      <td>0.00</td>\n",
       "      <td>0.0</td>\n",
       "      <td>0.0</td>\n",
       "      <td>0.0</td>\n",
       "      <td>0.0</td>\n",
       "      <td>...</td>\n",
       "      <td>0.0</td>\n",
       "      <td>0.234</td>\n",
       "      <td>0.0</td>\n",
       "      <td>0.058</td>\n",
       "      <td>0.0</td>\n",
       "      <td>0.0</td>\n",
       "      <td>1.068</td>\n",
       "      <td>3</td>\n",
       "      <td>47</td>\n",
       "      <td>email</td>\n",
       "    </tr>\n",
       "    <tr>\n",
       "      <th>1</th>\n",
       "      <td>0.00</td>\n",
       "      <td>0.0</td>\n",
       "      <td>0.71</td>\n",
       "      <td>0.0</td>\n",
       "      <td>0.00</td>\n",
       "      <td>0.00</td>\n",
       "      <td>0.0</td>\n",
       "      <td>0.0</td>\n",
       "      <td>0.0</td>\n",
       "      <td>0.0</td>\n",
       "      <td>...</td>\n",
       "      <td>0.0</td>\n",
       "      <td>0.000</td>\n",
       "      <td>0.0</td>\n",
       "      <td>0.342</td>\n",
       "      <td>0.0</td>\n",
       "      <td>0.0</td>\n",
       "      <td>1.000</td>\n",
       "      <td>1</td>\n",
       "      <td>31</td>\n",
       "      <td>email</td>\n",
       "    </tr>\n",
       "    <tr>\n",
       "      <th>2</th>\n",
       "      <td>0.00</td>\n",
       "      <td>0.0</td>\n",
       "      <td>0.00</td>\n",
       "      <td>0.0</td>\n",
       "      <td>0.00</td>\n",
       "      <td>0.17</td>\n",
       "      <td>0.0</td>\n",
       "      <td>0.0</td>\n",
       "      <td>0.0</td>\n",
       "      <td>0.0</td>\n",
       "      <td>...</td>\n",
       "      <td>0.0</td>\n",
       "      <td>0.055</td>\n",
       "      <td>0.0</td>\n",
       "      <td>0.000</td>\n",
       "      <td>0.0</td>\n",
       "      <td>0.0</td>\n",
       "      <td>1.685</td>\n",
       "      <td>7</td>\n",
       "      <td>204</td>\n",
       "      <td>email</td>\n",
       "    </tr>\n",
       "    <tr>\n",
       "      <th>3</th>\n",
       "      <td>0.00</td>\n",
       "      <td>0.0</td>\n",
       "      <td>0.00</td>\n",
       "      <td>0.0</td>\n",
       "      <td>0.00</td>\n",
       "      <td>0.00</td>\n",
       "      <td>0.0</td>\n",
       "      <td>0.0</td>\n",
       "      <td>0.0</td>\n",
       "      <td>0.0</td>\n",
       "      <td>...</td>\n",
       "      <td>0.0</td>\n",
       "      <td>0.000</td>\n",
       "      <td>0.0</td>\n",
       "      <td>0.000</td>\n",
       "      <td>0.0</td>\n",
       "      <td>0.0</td>\n",
       "      <td>1.800</td>\n",
       "      <td>5</td>\n",
       "      <td>9</td>\n",
       "      <td>email</td>\n",
       "    </tr>\n",
       "    <tr>\n",
       "      <th>4</th>\n",
       "      <td>0.00</td>\n",
       "      <td>0.0</td>\n",
       "      <td>0.00</td>\n",
       "      <td>0.0</td>\n",
       "      <td>0.00</td>\n",
       "      <td>0.00</td>\n",
       "      <td>0.0</td>\n",
       "      <td>0.0</td>\n",
       "      <td>0.0</td>\n",
       "      <td>0.0</td>\n",
       "      <td>...</td>\n",
       "      <td>0.0</td>\n",
       "      <td>0.471</td>\n",
       "      <td>0.0</td>\n",
       "      <td>0.000</td>\n",
       "      <td>0.0</td>\n",
       "      <td>0.0</td>\n",
       "      <td>1.424</td>\n",
       "      <td>8</td>\n",
       "      <td>47</td>\n",
       "      <td>email</td>\n",
       "    </tr>\n",
       "  </tbody>\n",
       "</table>\n",
       "<p>5 rows × 58 columns</p>\n",
       "</div>"
      ],
      "text/plain": [
       "    A.1  A.2   A.3  A.4   A.5   A.6  A.7  A.8  A.9  A.10  ...    A.49   A.50  \\\n",
       "0  0.32  0.0  0.00  0.0  0.32  0.00  0.0  0.0  0.0   0.0  ...     0.0  0.234   \n",
       "1  0.00  0.0  0.71  0.0  0.00  0.00  0.0  0.0  0.0   0.0  ...     0.0  0.000   \n",
       "2  0.00  0.0  0.00  0.0  0.00  0.17  0.0  0.0  0.0   0.0  ...     0.0  0.055   \n",
       "3  0.00  0.0  0.00  0.0  0.00  0.00  0.0  0.0  0.0   0.0  ...     0.0  0.000   \n",
       "4  0.00  0.0  0.00  0.0  0.00  0.00  0.0  0.0  0.0   0.0  ...     0.0  0.471   \n",
       "\n",
       "   A.51   A.52  A.53  A.54   A.55  A.56  A.57   spam  \n",
       "0   0.0  0.058   0.0   0.0  1.068     3    47  email  \n",
       "1   0.0  0.342   0.0   0.0  1.000     1    31  email  \n",
       "2   0.0  0.000   0.0   0.0  1.685     7   204  email  \n",
       "3   0.0  0.000   0.0   0.0  1.800     5     9  email  \n",
       "4   0.0  0.000   0.0   0.0  1.424     8    47  email  \n",
       "\n",
       "[5 rows x 58 columns]"
      ]
     },
     "execution_count": 59,
     "metadata": {},
     "output_type": "execute_result"
    }
   ],
   "source": [
    "import pandas as pd\n",
    "import numpy as np\n",
    "train = pd.read_csv('/Users/patrickcullinane/Desktop/exercise2/data/spam_train.csv')\n",
    "test = pd.read_csv('/Users/patrickcullinane/Desktop/exercise2/data/spam_test.csv')\n",
    "## separate the predictors and response in the training data set\n",
    "x = np.array(train.iloc[:, 0:57])\n",
    "y = np.array(train.iloc[:, -1])\n",
    "## separate the predictors and response in the test data set\n",
    "x2 = np.array(test.iloc[:, 0:57])\n",
    "y2 = np.ravel(test.iloc[:, -1])\n",
    "\n",
    "## have a look at the training data set\n",
    "train.head()"
   ]
  },
  {
   "cell_type": "code",
   "execution_count": 60,
   "metadata": {},
   "outputs": [],
   "source": [
    "from sklearn import linear_model, discriminant_analysis, neighbors, naive_bayes\n",
    "logit = linear_model.LinearRegression()\n",
    "Lda = discriminant_analysis.LinearDiscriminantAnalysis()\n",
    "knn = neighbors.KNeighborsClassifier()\n",
    "gnb = naive_bayes.GaussianNB()\n",
    "mnb = naive_bayes.MultinomialNB()"
   ]
  },
  {
   "cell_type": "code",
   "execution_count": 63,
   "metadata": {},
   "outputs": [
    {
     "name": "stdout",
     "output_type": "stream",
     "text": [
      "[[0.89173913 0.85347826 0.83086957 0.81086957]\n",
      " [0.8970013  0.78835289 0.81703607 0.79878314]]\n"
     ]
    }
   ],
   "source": [
    "Lda.fit(x,y)\n",
    "knn.fit(x,y) \n",
    "gnb.fit(x,y)\n",
    "mnb.fit(x,y)\n",
    "\n",
    "score_train = [Lda.score(x,y), knn.score(x,y), gnb.score(x,y), mnb.score(x,y)]\n",
    "score_test = [Lda.score(x2,y2), knn.score(x2,y2), gnb.score(x2,y2), mnb.score(x2,y2)]\n",
    "print(np.array([score_train, score_test]))"
   ]
  },
  {
   "cell_type": "code",
   "execution_count": 55,
   "metadata": {},
   "outputs": [],
   "source": [
    "#sklearn logistic regression will not work with strings\n",
    "#def encode():\n",
    "    #if 'email' x == 1 else x == 0\n",
    "    \n",
    "y_new = y\n",
    "y_encode = []\n",
    "for i in range(len(y)):\n",
    "    if y_new[i] == 'email':\n",
    "        y_new[i] = 1\n",
    "        y_encode.append(y_new[i])\n",
    "    else:\n",
    "        y_new[i] = 0\n",
    "        y_encode.append(y_new[i])\n",
    "\n",
    "y_encode = np.array(y_encode)      "
   ]
  },
  {
   "cell_type": "code",
   "execution_count": 65,
   "metadata": {},
   "outputs": [
    {
     "data": {
      "text/plain": [
       "LinearRegression(copy_X=True, fit_intercept=True, n_jobs=1, normalize=False)"
      ]
     },
     "execution_count": 65,
     "metadata": {},
     "output_type": "execute_result"
    }
   ],
   "source": [
    "logit.fit(x,y_encode)"
   ]
  },
  {
   "cell_type": "code",
   "execution_count": 67,
   "metadata": {},
   "outputs": [
    {
     "name": "stdout",
     "output_type": "stream",
     "text": [
      "[[0.55960406]\n",
      " [0.55960406]]\n"
     ]
    }
   ],
   "source": [
    "score_train2 = [logit.score(x,y_encode)]\n",
    "score_test2 = [logit.score(x,y_encode)]\n",
    "print(np.array([score_train2, score_test2]))"
   ]
  },
  {
   "cell_type": "code",
   "execution_count": null,
   "metadata": {},
   "outputs": [],
   "source": []
  }
 ],
 "metadata": {
  "kernelspec": {
   "display_name": "Python [conda env:anaconda]",
   "language": "python",
   "name": "conda-env-anaconda-py"
  },
  "language_info": {
   "codemirror_mode": {
    "name": "ipython",
    "version": 3
   },
   "file_extension": ".py",
   "mimetype": "text/x-python",
   "name": "python",
   "nbconvert_exporter": "python",
   "pygments_lexer": "ipython3",
   "version": "3.5.4"
  }
 },
 "nbformat": 4,
 "nbformat_minor": 1
}
